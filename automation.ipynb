{
 "cells": [
  {
   "cell_type": "code",
   "execution_count": 7,
   "metadata": {},
   "outputs": [],
   "source": [
    "import numpy as np\n",
    "import pandas as pd\n",
    "import pylab as plt\n",
    "import matplotlib\n",
    "\n",
    "%matplotlib inline"
   ]
  },
  {
   "cell_type": "code",
   "execution_count": 1,
   "metadata": {},
   "outputs": [
    {
     "name": "stdout",
     "output_type": "stream",
     "text": [
      "C:\\Users\\maxel\\Desktop\\DataCarp\\Org\\data-exploration\\automation\\code\n"
     ]
    }
   ],
   "source": [
    "#get current working directory\n",
    "import os\n",
    "cwd = os.getcwd()\n",
    "print(cwd)"
   ]
  },
  {
   "cell_type": "code",
   "execution_count": 2,
   "metadata": {},
   "outputs": [
    {
     "data": {
      "text/plain": [
       "['.ipynb_checkpoints', 'automation.ipynb']"
      ]
     },
     "execution_count": 2,
     "metadata": {},
     "output_type": "execute_result"
    }
   ],
   "source": [
    "os.listdir()"
   ]
  },
  {
   "cell_type": "code",
   "execution_count": null,
   "metadata": {},
   "outputs": [],
   "source": []
  },
  {
   "cell_type": "markdown",
   "metadata": {},
   "source": [
    "### Load Data"
   ]
  },
  {
   "cell_type": "code",
   "execution_count": null,
   "metadata": {},
   "outputs": [],
   "source": [
    "#cleaned_data_locatoin = 'data/gapminder_cleaned.csv'\n",
    "#df = pd.read_csv(cleaned_data_location)\n",
    "#df.head()"
   ]
  },
  {
   "cell_type": "code",
   "execution_count": 12,
   "metadata": {},
   "outputs": [],
   "source": [
    "VERBOSE = False\n",
    "\n",
    "cleaned_data_location = '../data/gapminder_cleaned.csv'\n",
    "try:\n",
    "    df = pd.read_csv(cleaned_data_location)\n",
    "    if VERBOSE:\n",
    "        print(df.head())\n",
    "except FileNotFoundError:\n",
    "        print('Could not find data file, check path? You tried', cleaned_data_location)\n"
   ]
  },
  {
   "cell_type": "code",
   "execution_count": 14,
   "metadata": {},
   "outputs": [],
   "source": [
    "years = df['year'].unique()\n",
    "years.sort()\n",
    "assert years[-1] == 2007\n",
    "assert years[0] == 1952"
   ]
  },
  {
   "cell_type": "markdown",
   "metadata": {},
   "source": [
    "### Refactoring"
   ]
  },
  {
   "cell_type": "code",
   "execution_count": 17,
   "metadata": {},
   "outputs": [],
   "source": [
    "#mean life expectancy in asia from 1952 to 2007\n",
    "mask_asia = df['continent'] == 'asia'\n",
    "df_asia = df[mask_asia] #make list a data frame\n",
    "\n",
    "mask_1952 = df_asia['year'] == 1952\n",
    "df_1952 = df_asia[mask_1952]\n",
    "value = np.mean(df_1952['lifeexp'])\n",
    "\n",
    "if VERBOSE:\n",
    "    print('mean for 1952 is ', value)\n",
    "\n",
    "#initialize empty\n",
    "result = []\n",
    "\n",
    "#add\n",
    "result.append(('asia','1952',value)) #tuple a list that cannot be modified\n",
    "result = pd.DataFrame(result, columns=['continent','year','lifeexp'])"
   ]
  },
  {
   "cell_type": "code",
   "execution_count": 18,
   "metadata": {},
   "outputs": [
    {
     "data": {
      "text/html": [
       "<div>\n",
       "<style scoped>\n",
       "    .dataframe tbody tr th:only-of-type {\n",
       "        vertical-align: middle;\n",
       "    }\n",
       "\n",
       "    .dataframe tbody tr th {\n",
       "        vertical-align: top;\n",
       "    }\n",
       "\n",
       "    .dataframe thead th {\n",
       "        text-align: right;\n",
       "    }\n",
       "</style>\n",
       "<table border=\"1\" class=\"dataframe\">\n",
       "  <thead>\n",
       "    <tr style=\"text-align: right;\">\n",
       "      <th></th>\n",
       "      <th>continent</th>\n",
       "      <th>year</th>\n",
       "      <th>lifeexp</th>\n",
       "    </tr>\n",
       "  </thead>\n",
       "  <tbody>\n",
       "    <tr>\n",
       "      <th>0</th>\n",
       "      <td>asia</td>\n",
       "      <td>1952</td>\n",
       "      <td>46.314394</td>\n",
       "    </tr>\n",
       "  </tbody>\n",
       "</table>\n",
       "</div>"
      ],
      "text/plain": [
       "  continent  year    lifeexp\n",
       "0      asia  1952  46.314394"
      ]
     },
     "execution_count": 18,
     "metadata": {},
     "output_type": "execute_result"
    }
   ],
   "source": [
    "result"
   ]
  },
  {
   "cell_type": "code",
   "execution_count": 20,
   "metadata": {},
   "outputs": [],
   "source": [
    "#get all years in data set\n",
    "\n",
    "#mean life expectancy in asia from 1952 to 2007\n",
    "mask_asia = df['continent'] == 'asia'\n",
    "df_asia = df[mask_asia] #make list a data frame\n",
    "\n",
    "years = df_asia['year'].unique()\n",
    "summary = []\n",
    "\n",
    "#mean lifeexp by year\n",
    "for year in years:\n",
    "    mask_year = df_asia['year'] == year\n",
    "    df_year = df_asia[mask_year]\n",
    "    value = np.mean(df_year['lifeexp'])\n",
    "    summary.append(('asia',year, value))\n",
    "    \n",
    "summary = pd.DataFrame(summary, columns=['continent','year','lifeexp'])\n"
   ]
  },
  {
   "cell_type": "code",
   "execution_count": 24,
   "metadata": {},
   "outputs": [
    {
     "data": {
      "text/plain": [
       "1699    africa\n",
       "1700    africa\n",
       "1701    africa\n",
       "1702    africa\n",
       "1703    africa\n",
       "Name: continent, dtype: object"
      ]
     },
     "execution_count": 24,
     "metadata": {},
     "output_type": "execute_result"
    }
   ],
   "source": [
    "df['continent'].tail()"
   ]
  },
  {
   "cell_type": "code",
   "execution_count": 38,
   "metadata": {},
   "outputs": [],
   "source": [
    "#get all years from continent in data set\n",
    "continent_name = 'africa'\n",
    "\n",
    "#mean life expectancy in continent from 1952 to 2007\n",
    "mask_cont = df['continent'] == continent_name\n",
    "df_cont = df[mask_cont] #make list a data frame\n",
    "\n",
    "years = df_cont['year'].unique()\n",
    "summary = []\n",
    "\n",
    "#mean lifeexp by year\n",
    "for year in years:\n",
    "    mask_year = df_cont['year'] == year\n",
    "    df_year = df_cont[mask_year]\n",
    "    value = round(np.mean(df_year['lifeexp']))\n",
    "    summary.append((continent_name,year, value))c\n",
    "    \n",
    "summary = pd.DataFrame(summary, columns=['continent','year','meanlifeexp'])\n"
   ]
  },
  {
   "cell_type": "code",
   "execution_count": 39,
   "metadata": {},
   "outputs": [
    {
     "data": {
      "text/html": [
       "<div>\n",
       "<style scoped>\n",
       "    .dataframe tbody tr th:only-of-type {\n",
       "        vertical-align: middle;\n",
       "    }\n",
       "\n",
       "    .dataframe tbody tr th {\n",
       "        vertical-align: top;\n",
       "    }\n",
       "\n",
       "    .dataframe thead th {\n",
       "        text-align: right;\n",
       "    }\n",
       "</style>\n",
       "<table border=\"1\" class=\"dataframe\">\n",
       "  <thead>\n",
       "    <tr style=\"text-align: right;\">\n",
       "      <th></th>\n",
       "      <th>continent</th>\n",
       "      <th>year</th>\n",
       "      <th>meanlifeexp</th>\n",
       "    </tr>\n",
       "  </thead>\n",
       "  <tbody>\n",
       "    <tr>\n",
       "      <th>0</th>\n",
       "      <td>africa</td>\n",
       "      <td>1952</td>\n",
       "      <td>39</td>\n",
       "    </tr>\n",
       "    <tr>\n",
       "      <th>1</th>\n",
       "      <td>africa</td>\n",
       "      <td>1957</td>\n",
       "      <td>41</td>\n",
       "    </tr>\n",
       "    <tr>\n",
       "      <th>2</th>\n",
       "      <td>africa</td>\n",
       "      <td>1962</td>\n",
       "      <td>43</td>\n",
       "    </tr>\n",
       "    <tr>\n",
       "      <th>3</th>\n",
       "      <td>africa</td>\n",
       "      <td>1967</td>\n",
       "      <td>45</td>\n",
       "    </tr>\n",
       "    <tr>\n",
       "      <th>4</th>\n",
       "      <td>africa</td>\n",
       "      <td>1972</td>\n",
       "      <td>47</td>\n",
       "    </tr>\n",
       "    <tr>\n",
       "      <th>5</th>\n",
       "      <td>africa</td>\n",
       "      <td>1977</td>\n",
       "      <td>50</td>\n",
       "    </tr>\n",
       "    <tr>\n",
       "      <th>6</th>\n",
       "      <td>africa</td>\n",
       "      <td>1982</td>\n",
       "      <td>52</td>\n",
       "    </tr>\n",
       "    <tr>\n",
       "      <th>7</th>\n",
       "      <td>africa</td>\n",
       "      <td>1987</td>\n",
       "      <td>53</td>\n",
       "    </tr>\n",
       "    <tr>\n",
       "      <th>8</th>\n",
       "      <td>africa</td>\n",
       "      <td>1992</td>\n",
       "      <td>54</td>\n",
       "    </tr>\n",
       "    <tr>\n",
       "      <th>9</th>\n",
       "      <td>africa</td>\n",
       "      <td>1997</td>\n",
       "      <td>54</td>\n",
       "    </tr>\n",
       "    <tr>\n",
       "      <th>10</th>\n",
       "      <td>africa</td>\n",
       "      <td>2002</td>\n",
       "      <td>53</td>\n",
       "    </tr>\n",
       "    <tr>\n",
       "      <th>11</th>\n",
       "      <td>africa</td>\n",
       "      <td>2007</td>\n",
       "      <td>55</td>\n",
       "    </tr>\n",
       "  </tbody>\n",
       "</table>\n",
       "</div>"
      ],
      "text/plain": [
       "   continent  year  meanlifeexp\n",
       "0     africa  1952           39\n",
       "1     africa  1957           41\n",
       "2     africa  1962           43\n",
       "3     africa  1967           45\n",
       "4     africa  1972           47\n",
       "5     africa  1977           50\n",
       "6     africa  1982           52\n",
       "7     africa  1987           53\n",
       "8     africa  1992           54\n",
       "9     africa  1997           54\n",
       "10    africa  2002           53\n",
       "11    africa  2007           55"
      ]
     },
     "execution_count": 39,
     "metadata": {},
     "output_type": "execute_result"
    }
   ],
   "source": [
    "summary"
   ]
  },
  {
   "cell_type": "code",
   "execution_count": 42,
   "metadata": {},
   "outputs": [
    {
     "data": {
      "text/plain": [
       "<matplotlib.axes._subplots.AxesSubplot at 0x1564c884b70>"
      ]
     },
     "execution_count": 42,
     "metadata": {},
     "output_type": "execute_result"
    },
    {
     "data": {
      "image/png": "[encoded data removed]",
      "text/plain": [
       "<Figure size 432x288 with 1 Axes>"
      ]
     },
     "metadata": {
      "needs_background": "light"
     },
     "output_type": "display_data"
    }
   ],
   "source": [
    "summary.plot.line('year',label='mean life expectancy')"
   ]
  },
  {
   "cell_type": "code",
   "execution_count": null,
   "metadata": {},
   "outputs": [],
   "source": []
  },
  {
   "cell_type": "code",
   "execution_count": 38,
   "metadata": {},
   "outputs": [],
   "source": [
    "#get all years from continent in data set\n",
    "continent_name = 'africa'\n",
    "\n",
    "#mean life expectancy in continent from 1952 to 2007\n",
    "mask_cont = df['continent'] == continent_name\n",
    "df_cont = df[mask_cont] #make list a data frame\n",
    "\n",
    "years = df_cont['year'].unique()\n",
    "summary = []\n",
    "\n",
    "#mean lifeexp by year\n",
    "for year in years:\n",
    "    mask_year = df_cont['year'] == year\n",
    "    df_year = df_cont[mask_year]\n",
    "    value = round(np.mean(df_year['lifeexp']))\n",
    "    summary.append((continent_name,year, value))c\n",
    "    \n",
    "summary = pd.DataFrame(summary, columns=['continent','year','meanlifeexp'])\n"
   ]
  },
  {
   "cell_type": "markdown",
   "metadata": {},
   "source": [
    "### Functions"
   ]
  },
  {
   "cell_type": "code",
   "execution_count": 46,
   "metadata": {},
   "outputs": [
    {
     "data": {
      "text/plain": [
       "('a', 'b', 'c', 'd', 'e', 'f')"
      ]
     },
     "execution_count": 46,
     "metadata": {},
     "output_type": "execute_result"
    }
   ],
   "source": [
    "('a','b','c')+('d','e','f')"
   ]
  },
  {
   "cell_type": "code",
   "execution_count": 52,
   "metadata": {},
   "outputs": [],
   "source": [
    "def calculate_mean_over_time(df,category,continent_name, verbose=False):\n",
    "    #mean life expectancy in continent from 1952 to 2007\n",
    "    mask_cont = df['continent'] == continent_name\n",
    "    df_cont = df[mask_cont] #make list a data frame\n",
    "\n",
    "    years = df_cont['year'].unique()\n",
    "    summary = []\n",
    "\n",
    "    #mean category by year\n",
    "    for year in years:\n",
    "        if verbose:\n",
    "            print(year.head())\n",
    "        mask_year = df_cont['year'] == year\n",
    "        df_year = df_cont[mask_year]\n",
    "        value = round(np.mean(df_year[category]))\n",
    "        summary.append((continent_name,year, value))\n",
    "\n",
    "    summary = pd.DataFrame(summary, columns=['continent','year','mean'+category])\n",
    "    return summary"
   ]
  },
  {
   "cell_type": "code",
   "execution_count": 54,
   "metadata": {},
   "outputs": [
    {
     "data": {
      "text/html": [
       "<div>\n",
       "<style scoped>\n",
       "    .dataframe tbody tr th:only-of-type {\n",
       "        vertical-align: middle;\n",
       "    }\n",
       "\n",
       "    .dataframe tbody tr th {\n",
       "        vertical-align: top;\n",
       "    }\n",
       "\n",
       "    .dataframe thead th {\n",
       "        text-align: right;\n",
       "    }\n",
       "</style>\n",
       "<table border=\"1\" class=\"dataframe\">\n",
       "  <thead>\n",
       "    <tr style=\"text-align: right;\">\n",
       "      <th></th>\n",
       "      <th>continent</th>\n",
       "      <th>year</th>\n",
       "      <th>meanpop</th>\n",
       "    </tr>\n",
       "  </thead>\n",
       "  <tbody>\n",
       "    <tr>\n",
       "      <th>0</th>\n",
       "      <td>europe</td>\n",
       "      <td>1952</td>\n",
       "      <td>13937362</td>\n",
       "    </tr>\n",
       "    <tr>\n",
       "      <th>1</th>\n",
       "      <td>europe</td>\n",
       "      <td>1957</td>\n",
       "      <td>14596345</td>\n",
       "    </tr>\n",
       "    <tr>\n",
       "      <th>2</th>\n",
       "      <td>europe</td>\n",
       "      <td>1962</td>\n",
       "      <td>15345172</td>\n",
       "    </tr>\n",
       "    <tr>\n",
       "      <th>3</th>\n",
       "      <td>europe</td>\n",
       "      <td>1967</td>\n",
       "      <td>16039299</td>\n",
       "    </tr>\n",
       "    <tr>\n",
       "      <th>4</th>\n",
       "      <td>europe</td>\n",
       "      <td>1972</td>\n",
       "      <td>16687835</td>\n",
       "    </tr>\n",
       "    <tr>\n",
       "      <th>5</th>\n",
       "      <td>europe</td>\n",
       "      <td>1977</td>\n",
       "      <td>17238818</td>\n",
       "    </tr>\n",
       "    <tr>\n",
       "      <th>6</th>\n",
       "      <td>europe</td>\n",
       "      <td>1982</td>\n",
       "      <td>17708897</td>\n",
       "    </tr>\n",
       "    <tr>\n",
       "      <th>7</th>\n",
       "      <td>europe</td>\n",
       "      <td>1987</td>\n",
       "      <td>18103139</td>\n",
       "    </tr>\n",
       "    <tr>\n",
       "      <th>8</th>\n",
       "      <td>europe</td>\n",
       "      <td>1992</td>\n",
       "      <td>18604760</td>\n",
       "    </tr>\n",
       "    <tr>\n",
       "      <th>9</th>\n",
       "      <td>europe</td>\n",
       "      <td>1997</td>\n",
       "      <td>18964805</td>\n",
       "    </tr>\n",
       "    <tr>\n",
       "      <th>10</th>\n",
       "      <td>europe</td>\n",
       "      <td>2002</td>\n",
       "      <td>19274129</td>\n",
       "    </tr>\n",
       "    <tr>\n",
       "      <th>11</th>\n",
       "      <td>europe</td>\n",
       "      <td>2007</td>\n",
       "      <td>19536618</td>\n",
       "    </tr>\n",
       "  </tbody>\n",
       "</table>\n",
       "</div>"
      ],
      "text/plain": [
       "   continent  year   meanpop\n",
       "0     europe  1952  13937362\n",
       "1     europe  1957  14596345\n",
       "2     europe  1962  15345172\n",
       "3     europe  1967  16039299\n",
       "4     europe  1972  16687835\n",
       "5     europe  1977  17238818\n",
       "6     europe  1982  17708897\n",
       "7     europe  1987  18103139\n",
       "8     europe  1992  18604760\n",
       "9     europe  1997  18964805\n",
       "10    europe  2002  19274129\n",
       "11    europe  2007  19536618"
      ]
     },
     "execution_count": 54,
     "metadata": {},
     "output_type": "execute_result"
    }
   ],
   "source": [
    "VERBOSE = False\n",
    "calculate_mean_over_time(df,'pop','europe',VERBOSE)"
   ]
  },
  {
   "cell_type": "markdown",
   "metadata": {},
   "source": [
    "### Passing functions"
   ]
  },
  {
   "cell_type": "code",
   "execution_count": 71,
   "metadata": {},
   "outputs": [
    {
     "data": {
      "text/plain": [
       "Index(['year', 'pop', 'lifeexp', 'gdppercap', 'country', 'continent'], dtype='object')"
      ]
     },
     "execution_count": 71,
     "metadata": {},
     "output_type": "execute_result"
    }
   ],
   "source": [
    "df.columns"
   ]
  },
  {
   "cell_type": "code",
   "execution_count": 84,
   "metadata": {},
   "outputs": [],
   "source": [
    "def calculate_func_over_time(df,category,continent_name, func, verbose=False):\n",
    "    \"\"\"Calculates values of a statistic function over time\n",
    "    \n",
    "    Args:\n",
    "        df: A pandas DataFrame\n",
    "        category: one of the column headers in your DataFrame df (e.g. 'lifeexp')\n",
    "        continent_name: value from continent column in df (e.g. 'asia')\n",
    "        func: a function applied to df column\n",
    "        verbose: (optional arg, default(False)) show debugging output\n",
    "        \n",
    "    Returns:\n",
    "        a summary table of value per year as DataFrame\n",
    "    \n",
    "    \"\"\"\n",
    "    #check the values provided\n",
    "    assert category in df.columns.values\n",
    "    assert continent_name in df['continent'].unique()\n",
    "    \n",
    "    #mask continent_name\n",
    "    mask_cont = df['continent'] == continent_name\n",
    "    df_cont = df[mask_cont] #make list a data frame\n",
    "    #get year list (unique)\n",
    "    years = df_cont['year'].unique()\n",
    "    summary = []\n",
    "\n",
    "    #mean category by year\n",
    "    for year in years:\n",
    "        if verbose:\n",
    "            print(year.head())\n",
    "        mask_year = df_cont['year'] == year\n",
    "        df_year = df_cont[mask_year]\n",
    "        value = round(func(df_year[category]))\n",
    "        summary.append((continent_name,year, value))\n",
    "\n",
    "    summary = pd.DataFrame(summary, columns=['continent','year',func.__name__+category])\n",
    "    return summary\n"
   ]
  },
  {
   "cell_type": "code",
   "execution_count": 95,
   "metadata": {},
   "outputs": [
    {
     "data": {
      "text/plain": [
       "0     1952\n",
       "1     1957\n",
       "2     1962\n",
       "3     1967\n",
       "4     1972\n",
       "5     1977\n",
       "6     1982\n",
       "7     1987\n",
       "8     1992\n",
       "9     1997\n",
       "10    2002\n",
       "11    2007\n",
       "Name: year, dtype: int64"
      ]
     },
     "execution_count": 95,
     "metadata": {},
     "output_type": "execute_result"
    }
   ],
   "source": [
    "calculate_func_over_time(df,'lifeexp','asia',np.mean)['year']"
   ]
  },
  {
   "cell_type": "code",
   "execution_count": 93,
   "metadata": {
    "collapsed": true
   },
   "outputs": [
    {
     "data": {
      "image/png": "[encoded data removed]",
      "text/plain": [
       "<Figure size 432x288 with 1 Axes>"
      ]
     },
     "metadata": {
      "needs_background": "light"
     },
     "output_type": "display_data"
    }
   ],
   "source": [
    "continents = df['continent'].unique()\n",
    "VERBOSE = False\n",
    "fig, ax = plt.subplots()\n",
    "\n",
    "for continent in continents:\n",
    "    output = calculate_func_over_time(df,'lifeexp',continent, np.median)\n",
    "    output.plot.line('year',ax=ax, label=continent)"
   ]
  },
  {
   "cell_type": "code",
   "execution_count": 130,
   "metadata": {},
   "outputs": [
    {
     "data": {
      "image/png": "[encoded data removed]",
      "text/plain": [
       "<Figure size 432x288 with 1 Axes>"
      ]
     },
     "metadata": {
      "needs_background": "light"
     },
     "output_type": "display_data"
    }
   ],
   "source": [
    "continents = df['continent'].unique()\n",
    "VERBOSE = False\n",
    "ax = plt.axes()\n",
    "\n",
    "for continent in continents:\n",
    "    #run closing arguments(;) for last plot\n",
    "    if continent == continents[-1]:\n",
    "        output = calculate_func_over_time(df,'lifeexp',continent, np.median)\n",
    "        plt.plot(output['year'], output[np.median.__name__+'lifeexp'], label=continent)\n",
    "        ax.set(title='Median Life Expectancy by Year',\n",
    "               xlabel = 'year',\n",
    "               ylabel = 'Life Expectancy (years)')\n",
    "        plt.legend(title='Median life expectancy',loc='upper right',bbox_to_anchor=(1.4, 1.0));\n",
    "    #plots before last plot\n",
    "    output = calculate_func_over_time(df,'lifeexp',continent, np.median)\n",
    "    plt.plot(output['year'], output[np.median.__name__+'lifeexp'], label=continent)\n",
    "    "
   ]
  },
  {
   "cell_type": "code",
   "execution_count": null,
   "metadata": {},
   "outputs": [],
   "source": []
  },
  {
   "cell_type": "code",
   "execution_count": null,
   "metadata": {},
   "outputs": [],
   "source": [
    "#import function file that exists in current directory\n",
    "import numpy as np\n",
    "import pandas as pd\n",
    "import pylab as plt\n",
    "import matplotlib\n",
    "from automation import calculate_func_over_time\n",
    "%matplotlib inline"
   ]
  },
  {
   "cell_type": "code",
   "execution_count": null,
   "metadata": {},
   "outputs": [],
   "source": [
    "#expand search path\n",
    "import numpy as np\n",
    "import pandas as pd\n",
    "import pylab as plt\n",
    "import matplotlib\n",
    "scriptpath = '<directory where your function file(s) exist>'\n",
    "sys.path.append(scriptpath)\n",
    "from automation import calculate_func_over_time\n",
    "%matplotlib inline"
   ]
  }
 ],
 "metadata": {
  "kernelspec": {
   "display_name": "Python 3",
   "language": "python",
   "name": "python3"
  },
  "language_info": {
   "codemirror_mode": {
    "name": "ipython",
    "version": 3
   },
   "file_extension": ".py",
   "mimetype": "text/x-python",
   "name": "python",
   "nbconvert_exporter": "python",
   "pygments_lexer": "ipython3",
   "version": "3.7.3"
  }
 },
 "nbformat": 4,
 "nbformat_minor": 2
}
